{
 "cells": [
  {
   "cell_type": "markdown",
   "metadata": {},
   "source": [
    "# Red Neuronal\n",
    "***Kevin Holguin***"
   ]
  },
  {
   "cell_type": "code",
   "execution_count": 3,
   "metadata": {},
   "outputs": [
    {
     "name": "stdout",
     "output_type": "stream",
     "text": [
      "1.0\n"
     ]
    }
   ],
   "source": [
    "import math\n",
    "\n",
    "\n",
    "\n",
    "class Neurona:\n",
    "    entradas = []  \n",
    "    pesos = []\n",
    "    bias = 0\n",
    "    \n",
    "    def __sumatoriaPonderada(self):\n",
    "        acum = self.bias\n",
    "        for x in range (0,len(self.entradas)):\n",
    "            acum = acum + self.entradas[x] * self.pesos[x] \n",
    "        return acum\n",
    "    #funcion debe parametrica \n",
    "    def __sigmoid(self, x):\n",
    "        return 1 / (1 + math.exp(-x))\n",
    "    \n",
    "    def evaluar(self):\n",
    "        return self.__sigmoid(self.__sumatoriaPonderada())\n",
    "        \n",
    "        \n",
    "neurona1 = Neurona()\n",
    "neurona1.entradas  = [2, 4]\n",
    "neurona1.pesos = [1, 1]\n",
    "neurona1.bias = 100\n",
    "  \n",
    "sumador = neurona1.evaluar()\n",
    "\n",
    "print(sumador)"
   ]
  }
 ],
 "metadata": {
  "kernelspec": {
   "display_name": "Python 3",
   "language": "python",
   "name": "python3"
  },
  "language_info": {
   "codemirror_mode": {
    "name": "ipython",
    "version": 3
   },
   "file_extension": ".py",
   "mimetype": "text/x-python",
   "name": "python",
   "nbconvert_exporter": "python",
   "pygments_lexer": "ipython3",
   "version": "3.7.6"
  }
 },
 "nbformat": 4,
 "nbformat_minor": 4
}
