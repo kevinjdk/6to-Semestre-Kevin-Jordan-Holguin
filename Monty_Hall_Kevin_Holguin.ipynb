{
 "cells": [
  {
   "cell_type": "markdown",
   "metadata": {},
   "source": [
    "# Ejercicio Monty Hall\n",
    "***Kevin Holguin***"
   ]
  },
  {
   "cell_type": "code",
   "execution_count": null,
   "metadata": {},
   "outputs": [],
   "source": [
    "import random\n",
    "\n",
    "rondas = 1000\n",
    "puertas = 3\n",
    "wins_cambio = 0\n",
    "wins_sin_cambio = 0\n",
    "\n",
    "#generamos las puertas\n",
    "for indice in range(0, rondas):\n",
    "    puerta_premiada = random.randrange(0,puertas)\n",
    "    puerta_escogida = random.randrange(0,puertas)\n",
    "    \n",
    "    \n",
    "    if puerta_premiada != puerta_escogida:\n",
    "        wins_cambio = wins_cambio + 1\n",
    "    else:\n",
    "        wins_sin_cambio = wins_sin_cambio + 1\n",
    "\n",
    "porcentaje_cambio = (wins_cambio / rondas) * 100\n",
    "porcentaje_sin_cambio = (wins_sin_cambio / rondas) * 100\n",
    "\n",
    "print(\"partidas ganadas con cambio\", wins_cambio,\" \", porcentaje_cambio, \"%\")\n",
    "print(\"partidas ganadas sin cambio \", wins_sin_cambio,\" \", porcentaje_sin_cambio, \"%\" )\n"
   ]
  }
 ],
 "metadata": {
  "kernelspec": {
   "display_name": "Python 3",
   "language": "python",
   "name": "python3"
  },
  "language_info": {
   "codemirror_mode": {
    "name": "ipython",
    "version": 3
   },
   "file_extension": ".py",
   "mimetype": "text/x-python",
   "name": "python",
   "nbconvert_exporter": "python",
   "pygments_lexer": "ipython3",
   "version": "3.7.6"
  }
 },
 "nbformat": 4,
 "nbformat_minor": 4
}
