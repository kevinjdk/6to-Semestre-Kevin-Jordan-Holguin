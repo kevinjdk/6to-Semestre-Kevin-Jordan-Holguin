{
 "cells": [
  {
   "cell_type": "markdown",
   "metadata": {},
   "source": [
    "# Manual de Python 3\n",
    "***Kevin Holguin***"
   ]
  },
  {
   "cell_type": "markdown",
   "metadata": {},
   "source": [
    "***Comentarios y uso de la funcion Print*** <br>\n",
    "Con print se imprime el valor deseado"
   ]
  },
  {
   "cell_type": "code",
   "execution_count": 18,
   "metadata": {},
   "outputs": [
    {
     "name": "stdout",
     "output_type": "stream",
     "text": [
      "Nombre: Kevin Holguin Edad: 21 años\n"
     ]
    }
   ],
   "source": [
    "#esto es un comentario en una linea\n",
    "\"\"\" esto es un comentario en \n",
    "    varias\n",
    "    lineas\n",
    "\"\"\"\n",
    "print (\"Nombre: \"+\"Kevin Holguin\"+\" \"+\"Edad: \"+\"21 años\") #cadena de texto"
   ]
  },
  {
   "cell_type": "markdown",
   "metadata": {},
   "source": [
    "#### CONSTANTES\n",
    "***Una constante es un tipo de variable la cual no puede ser cambiada.*** \n",
    "\n",
    "Las constantes son escritas en letras MAYÚSCULAS y separadas las palabras con _\n"
   ]
  },
  {
   "cell_type": "code",
   "execution_count": 22,
   "metadata": {},
   "outputs": [
    {
     "name": "stdout",
     "output_type": "stream",
     "text": [
      "PYTHON\n",
      "127.0.0.1\n",
      "------------------------------------\n"
     ]
    }
   ],
   "source": [
    "#Para concatenar usamos el signo +\n",
    "#ejemplos\n",
    "IP_DB_SERVER = \"127.0.0.1\"\n",
    "DB_NAME = \"PYTHON\"\n",
    "print (DB_NAME)\n",
    "print (IP_DB_SERVER)\n",
    "print (\"------------------------------------\")\n"
   ]
  },
  {
   "cell_type": "markdown",
   "metadata": {},
   "source": [
    "***Variable se refiere a un objeto, el objeto puede ser cualquier de los tipos como cadena de texto o un numero, etc.*** <br>\n",
    "Cada variable debe tener un nombre único llamado identificador.\n"
   ]
  },
  {
   "cell_type": "code",
   "execution_count": null,
   "metadata": {},
   "outputs": [],
   "source": [
    "#variables\n",
    "numero = 3 #variable numerica\n",
    "texto = \"HOLA\" #variable String\n",
    "print (\"imprimimos la variable numerica: \" + str(numero))\n",
    "print (\"imprimimos la variable de texto: \" + (texto))\n",
    "print (\"------------------------------------\")"
   ]
  },
  {
   "cell_type": "markdown",
   "metadata": {},
   "source": [
    "***podemos saber de que tipo es una  variable con: type***"
   ]
  },
  {
   "cell_type": "code",
   "execution_count": 15,
   "metadata": {},
   "outputs": [
    {
     "name": "stdout",
     "output_type": "stream",
     "text": [
      "<class 'int'>\n",
      "<class 'str'>\n",
      "<class 'float'>\n",
      "------------------------------------\n"
     ]
    }
   ],
   "source": [
    "variable=6\n",
    "variable_string= \"kevin\"\n",
    "variable_float= 4.5\n",
    "print (type(variable))\n",
    "print (type(variable_string))\n",
    "print (type(variable_float))\n",
    "print (\"------------------------------------\")"
   ]
  },
  {
   "cell_type": "markdown",
   "metadata": {},
   "source": [
    "### Datos complejos\n",
    "#### Cadena, Conjuntos, Listas, Tuplas y Diccionarios"
   ]
  },
  {
   "cell_type": "code",
   "execution_count": 16,
   "metadata": {
    "scrolled": true
   },
   "outputs": [
    {
     "name": "stdout",
     "output_type": "stream",
     "text": [
      "Uno es lo que elige ser\n",
      "n\n",
      "es l\n",
      "s lo que elige ser\n",
      "Uno es\n",
      "23\n",
      "---------------------------------\n",
      "HOLA MUNDO\n",
      "hola mundo\n",
      "Hola mundo\n"
     ]
    }
   ],
   "source": [
    "#CADENA: Las cadenas de caracteres, son secuencias inmutables que contienen caracteres encerrado entre comillas\n",
    "\n",
    "cadena = \"Uno es lo que elige ser\"\n",
    "print (cadena)\n",
    "print (cadena[1]) #Acceder a una posición de la cadena, las posiciones se cuentan desde el 0\n",
    "print (cadena[4:8]) #Rango de valores\n",
    "print (cadena[5:]) # valor de la posicion 5 en adelante\n",
    "print (cadena[:6]) #cadea hasta el valor en la posicion 6\n",
    "print (len(cadena)) #longitud de la cadena\n",
    "print(\"---------------------------------\")\n",
    "#METODOS DE CADENAS\n",
    "#upper()\n",
    "#Devuelve la cadena con todos sus caracteres a mayúscula\n",
    "hola = \"Hola Mundo\".upper()\n",
    "print (hola)\n",
    "#lower()\n",
    "#Devuelve la cadena con todos sus caracteres a minúscula\n",
    "hola = \"Hola Mundo\".lower()\n",
    "print (hola)\n",
    "#capitalize()\n",
    "#Devuelve la cadena con su primer carácter en mayúscula\n",
    "hola = \"hola mundo\".capitalize()\n",
    "print(hola)\n",
    "#title()\n",
    "#Devuelve la cadena con el primer carácter de cada palabra en mayúscula\n",
    "hola =\"hola mundo\".title()\n",
    "print(hola)\n",
    "#find()\n",
    "#Devuelve el índice en el que aparece la subcadena (-1 si no aparece)\n",
    "hola = \"Hola mundo\".find('mundo')\n",
    "print(hola)"
   ]
  },
  {
   "cell_type": "code",
   "execution_count": 13,
   "metadata": {},
   "outputs": [
    {
     "name": "stdout",
     "output_type": "stream",
     "text": [
      "<class 'set'>\n",
      "---------------------------------\n",
      "{8, 6, 7}\n",
      "{8, 6}\n",
      "{1, 2, 3, 4} {1, 2, 3, 4}\n",
      "{1, 2, 3, 4} {1, 2, 3}\n",
      "set()\n"
     ]
    }
   ],
   "source": [
    "#CONJUNTOS:\n",
    "\n",
    "conjunto1 = {1,2,3,4} #Para crear un conjunto especificamos sus elementos entre llaves\n",
    "conjunto2 = {1, \"hola\", 5, True} #tambien los miembros del conjunto pueden ser diversos\n",
    "#un conjunto no puede incluir listas\n",
    "print (type(conjunto2))\n",
    "print(\"---------------------------------\")\n",
    "\n",
    "#METODOS DE CONJUNTOS\n",
    "#add()\n",
    "#Añade un ítem a un conjunto, si ya existe no lo añade\n",
    "a = set()\n",
    "a.add(6)\n",
    "a.add(7)\n",
    "a.add(8)\n",
    "print(a)\n",
    "#discard()\n",
    "#Borra un ítem de un conjunto\n",
    "a.discard(7)\n",
    "print(a)\n",
    "#copy()\n",
    "#Devuelva una copia de un conjunto, ya que éstos como la mayoría de colecciones se almacenan por referencia\n",
    "c1 = {1,2,3,4}\n",
    "c2 = c1.copy()\n",
    "print(c1, c2)\n",
    "c2.discard(4)\n",
    "print(c1, c2)\n",
    "#clear()\n",
    "#Borra todos los ítems de un conjunto\n",
    "c2.clear()\n",
    "print (c2)"
   ]
  },
  {
   "cell_type": "markdown",
   "metadata": {},
   "source": [
    "A las __listas__ en algunos lenguajes de programación se las conocen como arreglos o matrices \n",
    "y se caracterizan porque los elementos están entre corchetes y separados por una coma.\n"
   ]
  },
  {
   "cell_type": "code",
   "execution_count": 1,
   "metadata": {},
   "outputs": [
    {
     "name": "stdout",
     "output_type": "stream",
     "text": [
      "[1, 2.5, 'HOLA', [5, 6], 4]\n",
      "1\n",
      "---------------------------------\n",
      "[1, 'hola', 3, 'kevin', 8]\n",
      "[1, 'hola', 3, 'kevin', 8, 2, 5]\n",
      "[1, 'hola', 3, 8, 2, 5]\n",
      "[]\n",
      "[1, 2, 3, 4, 5, 6]\n",
      "2\n",
      "1\n",
      "[8, 1, 2, 3]\n",
      "[5, 10, 15, 7, 25]\n",
      "[5, 10, 15, 25, 30]\n",
      "\n",
      "30\n",
      "[10, 20, 40, 50]\n"
     ]
    }
   ],
   "source": [
    "#LISTAS\n",
    "\n",
    "lista1 = [1]\n",
    "lista2 = [1, 2.5, 'HOLA', [5,6] ,4] #como se puede ver tambien se puede almacenar una lista dentro de otra lista \n",
    "print (lista2)\n",
    "for element in lista1: #para estar impriminedo uno por uno los elementos de la lista \n",
    "    print (element)    #podemos usar un for para recorrerlo.\n",
    "    #existen varias funciones que podemos usar \n",
    "    #aca algunas de las mas utilizadas\n",
    "    #APPEND\n",
    "    lista3 = [1,\"hola\", 3,\"kevin\"]\n",
    "    print(\"---------------------------------\")\n",
    "    #METODOS DE LISTAS\n",
    "    #APPEND\n",
    "    lista3.append(8) #se va agregar el 8 al final de la lista\n",
    "    print (lista3)\n",
    "    #EXTEND\n",
    "    lista3.extend([2,5]) #a diferencia del append con el extend cada elemento de esta lista  \n",
    "    print (lista3)       #se agrega como un elemento más dentro de la otra lista.\n",
    "    #REMOVE\n",
    "    lista3.remove(\"kevin\") #remove va a remover un elemento que se le pase como parámentro de la lista\n",
    "    print (lista3)\n",
    "    #CLEAR\n",
    "    #Vacía todos los ítems de una lista\n",
    "    lista3.clear()\n",
    "    print (lista3)\n",
    "    #EXTEND\n",
    "    #Une una lista a otra\n",
    "    l1 = [1,2,3]\n",
    "    l2 = [4,5,6]\n",
    "    l1.extend(l2)\n",
    "    print(l1)\n",
    "    #COUNT\n",
    "    #Cuenta el número de veces que aparece un ítem\n",
    "    listaa = [\"Hola\", \"mundo\", \"mundo\"].count(\"mundo\")\n",
    "    print (listaa)\n",
    "    #INDEX\n",
    "    #Devuelve el índice en el que aparece un ítem (error si no aparece)\n",
    "    lista_i = [\"Hola\", \"mundo\", \"mundo\"].index(\"mundo\")\n",
    "    print(lista_i)\n",
    "    #INSERT\n",
    "    #Agrega un ítem a la lista en un índice específico:\n",
    "    #Primera posición (0):\n",
    "    l = [1,2,3]\n",
    "    l.insert(0,8)\n",
    "    print(l)\n",
    "    #Penúltima posición (-1):\n",
    "    l_2 = [5,10,15,25]\n",
    "    l_2.insert(-1,7) \n",
    "    print(l_2)\n",
    "    #Última posición en una lista con len():\n",
    "    l_3 = [5,10,15,25]\n",
    "    n = len(l_3)\n",
    "    l_3.insert(n,30)\n",
    "    print(l_3)\n",
    "    #POP\n",
    "    #Extrae un item de la lista y lo borra, el indice empieza en 0 \n",
    "    print()\n",
    "    l_p = [10,20,30,40,50]\n",
    "    print(l_p.pop(2))\n",
    "    print(l_p)\n",
    "    "
   ]
  },
  {
   "cell_type": "markdown",
   "metadata": {},
   "source": [
    "Una __tupla__ es un conjunto ordenado e inmutable del mismo tipo o de diferente tipo se representan por estar en parentesis y separados por comas."
   ]
  },
  {
   "cell_type": "code",
   "execution_count": 2,
   "metadata": {},
   "outputs": [
    {
     "name": "stdout",
     "output_type": "stream",
     "text": [
      "3\n",
      "0\n",
      "1\n",
      "---------------------------------\n",
      "2\n",
      "1\n"
     ]
    }
   ],
   "source": [
    " #TUPLAS\n",
    "    \n",
    "tupla = (1, \"a\", 3.14) #en realidad no es necesario escribir los paréntesis para indicar que se trata de una tupla,\n",
    "tupla2 = 2, \"b\", 3.14  #basta con escribir las comas, pero Python escribe siempre los paréntesis.\n",
    "print (len(tupla2)) #devuelve el número de elementos de una tupla\n",
    "tupla3 = () #una tupla tambien pueden estar vacias\n",
    "print(len(tupla3))\n",
    "\"\"\" En pytho puede una tupla puede contener un unico elemento pero para que python pueda \n",
    "    reconocerlo como una tupla hay que ingresar una coma despues del dato.\n",
    "    Python escribe una coma al final en las tuplas de un único elemento para indicar que se trata de un tupla,\n",
    "    pero esa coma no indica que hay un elemento después: \n",
    "\"\"\"\n",
    "tupla4 =(4,)\n",
    "print (len(tupla4))\n",
    "print(\"---------------------------------\")\n",
    "#METODOS DE TUPLAS\n",
    "\n",
    "#count()\n",
    "#Este método recibe un elemento como argumento, y cuenta la cantidad de veces que aparece en la tupla.\n",
    "nombres = [\"KEVIN\", \"MIGUEL\", \"LUIS\", \"SANTIAGO\", \"MIGUEL\"] \n",
    "cou = nombres.count(\"MIGUEL\")\n",
    "print(cou)\n",
    "\n",
    "#index()\n",
    "#Comparte el mismo método index() del tipo lista. Este método recibe un elemento como argumento,\n",
    "#y devuelve el índice de su primera aparición en la tupla.\n",
    "vals = ('zapato', True, 'camisa', True)\n",
    "val = vals.index(True)\n",
    "print (val)"
   ]
  },
  {
   "cell_type": "markdown",
   "metadata": {},
   "source": [
    "    Los diccionarios nos permiten identificar cada elemento por una clave (Key).\n",
    "    Para definir un diccionario, se encierra el listado de valores entre llaves.\n",
    "    Las parejas de clave y valor se separan con comas, y la clave y el valor se separan con dos puntos."
   ]
  },
  {
   "cell_type": "code",
   "execution_count": 53,
   "metadata": {},
   "outputs": [
    {
     "name": "stdout",
     "output_type": "stream",
     "text": [
      "Kevin\n",
      "21\n",
      "['Python', 'Ingenieria de Software']\n",
      "Python\n",
      "Ingenieria de Software\n",
      "---------------------------------\n",
      "{'nombre': 'LUIS', 'apellido': 'HOLGUIN', 'edad': 19}\n",
      "{'K': 1, 'J': 2, 'H': 3, 'M': 4}\n",
      "dict_items([('a', 1), ('e', 2), ('i', 3), ('o', 4)])\n",
      "dict_keys(['j', 'k', 'l', 'm'])\n",
      "dict_values([6, 7, 8, 9])\n",
      "None\n",
      "{'k': 7, 'j': 7, 'h': 7, 'm': 7}\n",
      "3\n",
      "1\n",
      "{'n': 2, 'o': 3, 'p': 4}\n",
      "{'a': 1, 'b': 2, 'c': 3, 'd': 4}\n",
      "{'a': 1, 'b': 2, 'c': 3, 'd': 4, 'e': 5}\n"
     ]
    }
   ],
   "source": [
    "#DICCIONARIOS\n",
    "diccionario = {'nombre' : 'Kevin', 'edad' : 21, 'cursos': ['Python', 'Ingenieria de Software'] }\n",
    "     #Para acceder al elemento de un diccionario lo hacemos mediante la clave de este elemento\n",
    "print (diccionario['nombre']) #Kevin\n",
    "print (diccionario['edad']) #21\n",
    "print (diccionario['cursos']) #['Python','Ingenieria de Software']\n",
    "          #como se pudo observar tambien se puede ingresar una lista en un diccionario\n",
    "          #y para acceder a cada uno usamos los indices\n",
    "print (diccionario['cursos'][0]) #Python\n",
    "print (diccionario['cursos'][1]) #Ingenieria de Software\n",
    "print(\"---------------------------------\")\n",
    "#METODOS DE DICCIONARIO\n",
    "\n",
    "#dict ()\n",
    "#Recibe como parámetro una representación de un diccionario y si es factible, devuelve un diccionario de datos.\n",
    "diccio =  dict(nombre='LUIS', apellido='HOLGUIN', edad=19)\n",
    "print (diccio)\n",
    "\n",
    "zip()\n",
    "#Recibe como parámetro dos elementos iterables, ya sea una cadena, una lista o una tupla.\n",
    "#Ambos parámetros deben tener el mismo número de elementos. Se devolverá un diccionario relacionando\n",
    "#el elemento i-esimo de cada uno de los iterables.\n",
    "diccio2 = dict(zip('KJHM',[1,2,3,4]))\n",
    "print (diccio2)\n",
    "\n",
    "#items()\n",
    "#Devuelve una lista de tuplas, cada tupla se compone de dos elementos: el primero será la clave y el segundo, su valor.\n",
    "diccio3 =   {'a' : 1, 'e' : 2, 'i' : 3 , 'o' : 4}\n",
    "items = diccio3.items()\n",
    "print (items)\n",
    "\n",
    "#keys()\n",
    "#Retorna una lista de elementos, los cuales serán las claves de nuestro diccionario.\n",
    "diccio4 =  {'j' : 1, 'k': 2, 'l' : 3 , 'm' : 4}\n",
    "keys= diccio4.keys()\n",
    "print (keys)\n",
    "\n",
    "#values()\n",
    "#Retorna una lista de elementos, que serán los valores de nuestro diccionario.\n",
    "diccio5 =  {'a' : 6, 'b' : 7, 'c' : 8 , 'd' : 9}\n",
    "values= diccio5.values()\n",
    "print (values)\n",
    "\n",
    "#clear()\n",
    "#Elimina todos los ítems del diccionario dejándolo vacío.\n",
    "diccio6 =  {'a' : 6, 'b' : 7, 'c' : 8 , 'd' : 9}\n",
    "clear= diccio6.clear()\n",
    "print (clear)\n",
    "\n",
    "#fromkeys()\n",
    "#Recibe como parámetros un iterable y un valor, devolviendo un diccionario que contiene como claves los elementos\n",
    "#del iterable con el mismo valor ingresado. Si el valor no es ingresado, devolverá none para todas las claves.\n",
    "diccio7 = dict.fromkeys(['k','j','h','m'],7)\n",
    "print(diccio7)\n",
    "\n",
    "#get()\n",
    "#Recibe como parámetro una clave, devuelve el valor de la clave. Si no lo encuentra, devuelve un objeto none.\n",
    "diccio8 = {'m' : 1, 'n' : 2, 'o' : 3 , 'p' : 4}\n",
    "valor = diccio8.get('o')\n",
    "print(valor)\n",
    "\n",
    "#pop()\n",
    "#Recibe como parámetro una clave, elimina esta y devuelve su valor. Si no lo encuentra, devuelve error.\n",
    "diccio9 = {'m' : 1, 'n' : 2, 'o' : 3 , 'p' : 4}\n",
    "valor = diccio9.pop('m')\n",
    "print(valor)\n",
    "print(diccio9)\n",
    "\n",
    "#setdefault()\n",
    "#setdefault() funciona de dos formas la primera funciona como un get y la otra forma \n",
    "#nos sirve para agregar un nuevo elememto al diccionario\n",
    "#1\n",
    "diccio10 = {'a' : 1, 'b' : 2, 'c' : 3 , 'd' : 4}\n",
    "valor = diccio10.setdefault('b')\n",
    "print(diccio10)\n",
    "#2\n",
    "diccio11 = {'a' : 1, 'b' : 2, 'c' : 3 , 'd' : 4}\n",
    "valor = diccio11.setdefault('e',5)\n",
    "print(diccio11)"
   ]
  },
  {
   "cell_type": "code",
   "execution_count": 17,
   "metadata": {},
   "outputs": [
    {
     "name": "stdout",
     "output_type": "stream",
     "text": [
      "5 y 6 no son iguales\n"
     ]
    }
   ],
   "source": [
    "#IF\n",
    "dato1=5\n",
    "dato2=6\n",
    "if (dato1 == dato2):\n",
    "    print (str(dato1) + \" y \" + str(dato2) + \" los numeros son iguales.\")\n",
    "else:\n",
    "    print (str(dato1) + \" y \" + str(dato2) + \" no son iguales\")"
   ]
  },
  {
   "cell_type": "code",
   "execution_count": 15,
   "metadata": {},
   "outputs": [
    {
     "name": "stdout",
     "output_type": "stream",
     "text": [
      "Iteracion con 0\n",
      "Iteracion con 1\n",
      "Iteracion con 2\n",
      "Iteracion con 3\n",
      "Iteracion con 4\n"
     ]
    }
   ],
   "source": [
    "#FOR\n",
    "for valor in range(5):\n",
    "    print(\"Iteracion con \" + str(valor))"
   ]
  },
  {
   "cell_type": "code",
   "execution_count": 94,
   "metadata": {},
   "outputs": [
    {
     "name": "stdout",
     "output_type": "stream",
     "text": [
      "Iteracion con 0\n",
      "Iteracion con 1\n",
      "Iteracion con 2\n",
      "Iteracion con 3\n",
      "Iteracion con 4\n"
     ]
    }
   ],
   "source": [
    "#WHILE\n",
    "valor = 0\n",
    "while(valor < 5):\n",
    "    print(\"Iteracion con \" + str(valor))\n",
    "    valor = valor + 1"
   ]
  },
  {
   "cell_type": "markdown",
   "metadata": {},
   "source": [
    "### Objetos en Python\n",
    "Cuando una clase se instancia, da lugar a un objeto."
   ]
  },
  {
   "cell_type": "code",
   "execution_count": 12,
   "metadata": {},
   "outputs": [
    {
     "name": "stdout",
     "output_type": "stream",
     "text": [
      "Rectangulo de juguete\n",
      "253\n"
     ]
    }
   ],
   "source": [
    "#Objetos en Python\n",
    "# clase rectángulo\n",
    "class Rectangulo:\n",
    "    def __init__(self,x,y): \n",
    "        self.x = x\n",
    "        self.y = y\n",
    "    descripcion = \"esto es un rectangulo\"\n",
    "    autor = \"anonimo\"\n",
    "    def area(self):\n",
    "        return self.x *self.y\n",
    "    def perimetro(self):\n",
    "        return 2 *self.x + 2 *self.y\n",
    "    def descripcion(self,text):\n",
    "        self.description = text \n",
    "    def nombreAutor(self,text):\n",
    "        self.author = text\n",
    "    def cambiaDimensiones(self,scale):\n",
    "        self.x = self.x *scale\n",
    "        self.y = self.y *scale\n",
    "#creating objects\n",
    "rectangulol = Rectangulo(90, 35)\n",
    "rectangulo2 = Rectangulo(23, 11)\n",
    "#describing the rectongLes\n",
    "rectangulol.descripcion = (\"Rectangulo de juguete\")\n",
    "print (rectangulol.descripcion) \n",
    "print (rectangulo2.area())\n"
   ]
  },
  {
   "cell_type": "markdown",
   "metadata": {},
   "source": [
    "### Vizualisacion con Python"
   ]
  },
  {
   "cell_type": "markdown",
   "metadata": {},
   "source": [
    "Lo primero es activar el modo inline - de esta manera las figuras apareceran automaticamente incrustadas en el notebook."
   ]
  },
  {
   "cell_type": "code",
   "execution_count": 20,
   "metadata": {},
   "outputs": [],
   "source": [
    "%matplotlib inline"
   ]
  },
  {
   "cell_type": "markdown",
   "metadata": {},
   "source": [
    "Importamos los paquetes necesarios:"
   ]
  },
  {
   "cell_type": "code",
   "execution_count": null,
   "metadata": {},
   "outputs": [],
   "source": [
    "import numpy as np\n",
    "import matplotlib.pyplot as plt"
   ]
  },
  {
   "cell_type": "code",
   "execution_count": 29,
   "metadata": {},
   "outputs": [
    {
     "data": {
      "text/plain": [
       "[<matplotlib.lines.Line2D at 0x2872ba08a48>]"
      ]
     },
     "execution_count": 29,
     "metadata": {},
     "output_type": "execute_result"
    },
    {
     "data": {
      "image/png": "[encoded data removed]",
      "text/plain": [
       "<Figure size 432x288 with 1 Axes>"
      ]
     },
     "metadata": {
      "needs_background": "light"
     },
     "output_type": "display_data"
    }
   ],
   "source": [
    "plt.plot ([1, -1, 0, 3, -1])"
   ]
  },
  {
   "cell_type": "code",
   "execution_count": 23,
   "metadata": {},
   "outputs": [
    {
     "data": {
      "image/png": "[encoded data removed]",
      "text/plain": [
       "<Figure size 432x288 with 1 Axes>"
      ]
     },
     "metadata": {
      "needs_background": "light"
     },
     "output_type": "display_data"
    }
   ],
   "source": [
    "N_points = 100\n",
    "x = np.random.randn(N_points)\n",
    "y = .4 * x\n",
    "plt.plot(x, y)\n",
    "plt.grid()"
   ]
  },
  {
   "cell_type": "code",
   "execution_count": null,
   "metadata": {},
   "outputs": [],
   "source": []
  }
 ],
 "metadata": {
  "kernelspec": {
   "display_name": "Python 3",
   "language": "python",
   "name": "python3"
  },
  "language_info": {
   "codemirror_mode": {
    "name": "ipython",
    "version": 3
   },
   "file_extension": ".py",
   "mimetype": "text/x-python",
   "name": "python",
   "nbconvert_exporter": "python",
   "pygments_lexer": "ipython3",
   "version": "3.7.6"
  }
 },
 "nbformat": 4,
 "nbformat_minor": 4
}
