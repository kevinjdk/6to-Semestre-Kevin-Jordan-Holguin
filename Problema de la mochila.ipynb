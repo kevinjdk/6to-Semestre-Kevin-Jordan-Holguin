{
 "cells": [
  {
   "cell_type": "markdown",
   "metadata": {},
   "source": [
    "# Problema de la mochila\n",
    "***Kevin Holguin***"
   ]
  },
  {
   "cell_type": "code",
   "execution_count": 1,
   "metadata": {},
   "outputs": [
    {
     "name": "stdout",
     "output_type": "stream",
     "text": [
      "2636 2763\n",
      "Peso 144 Valor 880\n",
      "[('Paquete 1', 18, 300),\n",
      " ('Paquete 2', 18, 260),\n",
      " ('Paquete 3', 78, 200),\n",
      " ('Paquete 5', 30, 120)]\n"
     ]
    }
   ],
   "source": [
    "from operator import itemgetter\n",
    "\n",
    "#Paquetes: \"Nombre del paquete\", Kilos, Precio\n",
    "PAQUETES = (\n",
    "    (\"Paquete 1\", 18, 300), (\"Paquete 2\", 18, 260), (\"Paquete 3\", 78, 200), (\"Paquete 4\", 789, 876),\n",
    "    (\"Paquete 5\", 30, 120), (\"Paquete 6\", 34, 45), (\"Paquete 7\", 90, 60), (\"Paquete 8\", 564, 345),\n",
    "    (\"Paquete 9\", 115, 246), (\"Paquete 10\", 321, 10), (\"Paquete 11\", 123, 70), (\"Paquete 12\", 456, 231))\n",
    "\n",
    "#carga máxima\n",
    "\n",
    "PESOMAXIMO = 150\n",
    "get_peso = itemgetter(1)\n",
    "get_valor = itemgetter(2)\n",
    "\n",
    "def total_peso(paquetes):\n",
    "    return sum(get_peso(x) for x in paquetes)\n",
    "\n",
    "def total_valor(paquetes):\n",
    "    return sum(get_valor(x) for x in paquetes)\n",
    "\n",
    "print(total_peso(PAQUETES), total_valor(PAQUETES))\n",
    "\n",
    "def combinaciones(paquetes, peso_maximo):\n",
    "    paqs = [ p for p in paquetes if get_peso(p) <= peso_maximo ]\n",
    "    resultado = []\n",
    "    for p in paqs:\n",
    "        res = combinaciones([x for x in paqs if x!=p], peso_maximo - get_peso(p))\n",
    "        if len(res) == 0:\n",
    "            resultado.append([p])\n",
    "        else:\n",
    "            resultado.extend([[p]+x for x in res])\n",
    "    return resultado\n",
    "\n",
    "from pprint import pprint\n",
    "# solución\n",
    "sol = max(combinaciones(PAQUETES, PESOMAXIMO), key=total_valor)\n",
    "\n",
    "print(\"Peso {} Valor {}\".format(total_peso(sol), total_valor(sol)))\n",
    "pprint(sol)"
   ]
  },
  {
   "cell_type": "code",
   "execution_count": null,
   "metadata": {},
   "outputs": [],
   "source": []
  }
 ],
 "metadata": {
  "kernelspec": {
   "display_name": "Python 3",
   "language": "python",
   "name": "python3"
  },
  "language_info": {
   "codemirror_mode": {
    "name": "ipython",
    "version": 3
   },
   "file_extension": ".py",
   "mimetype": "text/x-python",
   "name": "python",
   "nbconvert_exporter": "python",
   "pygments_lexer": "ipython3",
   "version": "3.7.6"
  }
 },
 "nbformat": 4,
 "nbformat_minor": 4
}
